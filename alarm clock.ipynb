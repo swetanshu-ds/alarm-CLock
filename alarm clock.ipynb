{
 "cells": [
  {
   "cell_type": "code",
   "execution_count": 1,
   "id": "63f5f0be",
   "metadata": {},
   "outputs": [
    {
     "name": "stdout",
     "output_type": "stream",
     "text": [
      "Requirement already satisfied: playsound in c:\\users\\swetanshu\\anaconda3\\lib\\site-packages (1.3.0)\n",
      "Note: you may need to restart the kernel to use updated packages.\n"
     ]
    }
   ],
   "source": [
    "pip install playsound"
   ]
  },
  {
   "cell_type": "code",
   "execution_count": 1,
   "id": "91bdec3c",
   "metadata": {},
   "outputs": [],
   "source": [
    "import datetime "
   ]
  },
  {
   "cell_type": "code",
   "execution_count": 2,
   "id": "0719c929",
   "metadata": {},
   "outputs": [],
   "source": [
    "from playsound import playsound "
   ]
  },
  {
   "cell_type": "code",
   "execution_count": 3,
   "id": "49dfcb11",
   "metadata": {},
   "outputs": [
    {
     "name": "stdout",
     "output_type": "stream",
     "text": [
      "Enter Hour:9\n",
      "Enter Minutes:41\n",
      "am/pm:am\n",
      "Playing\n"
     ]
    }
   ],
   "source": [
    "alarmHour = int(input(\"Enter Hour:\"))\n",
    "alarmMin = int(input(\"Enter Minutes:\"))\n",
    "alarmAm = input('am/pm:')\n",
    "\n",
    "if alarmAm =='pm':\n",
    "    alarmHour+=12\n",
    "    \n",
    "    \n",
    "while True:\n",
    "    if alarmHour==datetime.datetime.now().hour and alarmMin == datetime.datetime.now().minute:\n",
    "          print(\"Playing\")\n",
    "          playsound(\"Creepy-clock-chiming.mp3\")\n",
    "          break"
   ]
  },
  {
   "cell_type": "code",
   "execution_count": 6,
   "id": "d18d6458",
   "metadata": {},
   "outputs": [],
   "source": [
    "alarmHo = 9\n"
   ]
  },
  {
   "cell_type": "code",
   "execution_count": 9,
   "id": "86a1feba",
   "metadata": {},
   "outputs": [
    {
     "data": {
      "text/plain": [
       "True"
      ]
     },
     "execution_count": 9,
     "metadata": {},
     "output_type": "execute_result"
    }
   ],
   "source": [
    "alarmHo==datetime.datetime.now().hour"
   ]
  },
  {
   "cell_type": "code",
   "execution_count": 10,
   "id": "befeaeb0",
   "metadata": {},
   "outputs": [
    {
     "data": {
      "text/plain": [
       "9"
      ]
     },
     "execution_count": 10,
     "metadata": {},
     "output_type": "execute_result"
    }
   ],
   "source": [
    "datetime.datetime.now().hour"
   ]
  },
  {
   "cell_type": "code",
   "execution_count": null,
   "id": "59c687c7",
   "metadata": {},
   "outputs": [],
   "source": []
  }
 ],
 "metadata": {
  "kernelspec": {
   "display_name": "Python 3",
   "language": "python",
   "name": "python3"
  },
  "language_info": {
   "codemirror_mode": {
    "name": "ipython",
    "version": 3
   },
   "file_extension": ".py",
   "mimetype": "text/x-python",
   "name": "python",
   "nbconvert_exporter": "python",
   "pygments_lexer": "ipython3",
   "version": "3.8.8"
  }
 },
 "nbformat": 4,
 "nbformat_minor": 5
}
